{
  "nbformat": 4,
  "nbformat_minor": 0,
  "metadata": {
    "colab": {
      "provenance": []
    },
    "kernelspec": {
      "name": "python3",
      "display_name": "Python 3"
    },
    "language_info": {
      "name": "python"
    }
  },
  "cells": [
    {
      "cell_type": "markdown",
      "source": [
        "Base de dados: https://www.kaggle.com/datasets/rhuebner/human-resources-data-set?resource=download"
      ],
      "metadata": {
        "id": "nrJ09yYpvs6p"
      }
    },
    {
      "cell_type": "markdown",
      "source": [
        "Variáveis:\n",
        "\n",
        "Employee_Name: O nome do funcionário.\n",
        "\n",
        "EmpID: O ID do funcionário.\n",
        "\n",
        "MarriedID: Um indicador binário que representa se o funcionário é casado ou não (0 = não casado, 1 = casado).\n",
        "\n",
        "MaritalStatusID: O ID que representa o estado civil do funcionário.\n",
        "\n",
        "GenderID: O ID que representa o gênero do funcionário.\n",
        "\n",
        "EmpStatusID: O ID que representa o status de emprego do funcionário.\n",
        "\n",
        "DeptID: O ID do departamento em que o funcionário trabalha.\n",
        "\n",
        "PerfScoreID: O ID que representa o desempenho do funcionário.\n",
        "\n",
        "FromDiversityJobFairID: Um indicador binário que representa se o funcionário foi contratado de uma feira de empregos de diversidade (0 = não, 1 = sim).\n",
        "\n",
        "Salary: O salário do funcionário.\n",
        "\n",
        "Termd: Um indicador binário que representa se o funcionário foi demitido ou não (0 = não demitido, 1 = demitido).\n",
        "\n",
        "PositionID: O ID do cargo do funcionário.\n",
        "\n",
        "Position: O cargo do funcionário.\n",
        "\n",
        "State: O estado onde o funcionário está localizado.\n",
        "\n",
        "Zip: O código postal do funcionário.\n",
        "\n",
        "DOB: A data de nascimento do funcionário.\n",
        "\n",
        "Sex: O sexo do funcionário.\n",
        "\n",
        "MaritalDesc: A descrição do estado civil do funcionário.\n",
        "\n",
        "CitizenDesc: A descrição da cidadania do funcionário.\n",
        "\n",
        "HispanicLatino: Um indicador binário que representa se o funcionário é\n",
        "hispânico/latino (No = não, Yes = sim).\n",
        "\n",
        "RaceDesc: A descrição da raça do funcionário.\n",
        "\n",
        "DateofHire: A data de contratação do funcionário.\n",
        "\n",
        "DateofTermination: A data de término do emprego do funcionário.\n",
        "\n",
        "TermReason: O motivo do término do emprego do funcionário.\n",
        "\n",
        "EmploymentStatus: O status de emprego do funcionário.\n",
        "\n",
        "Department: O departamento em que o funcionário trabalha.\n",
        "\n",
        "ManagerName: O nome do gerente do funcionário.\n",
        "\n",
        "ManagerID: O ID do gerente do funcionário.\n",
        "\n",
        "RecruitmentSource: A fonte de recrutamento do funcionário.\n",
        "\n",
        "PerformanceScore: O desempenho do funcionário.\n",
        "\n",
        "EngagementSurvey: A pontuação da pesquisa de engajamento do funcionário.\n",
        "\n",
        "EmpSatisfaction: O nível de satisfação do funcionário.\n",
        "\n",
        "SpecialProjectsCount: O número de projetos especiais em que o funcionário está envolvido.\n",
        "\n",
        "LastPerformanceReview_Date: A data da última avaliação de desempenho do funcionário.\n",
        "\n",
        "DaysLateLast30: O número de dias em que o funcionário atrasou nos últimos 30 dias.\n",
        "\n",
        "Absences: O número de ausências do funcionário.\n"
      ],
      "metadata": {
        "id": "1Gw-mKGXsP_-"
      }
    },
    {
      "cell_type": "code",
      "source": [
        "import pandas as pd\n",
        "import matplotlib.pyplot as plt\n",
        "\n",
        "# Carregar o arquivo XLSX\n",
        "df = pd.read_excel('/content/drive/MyDrive/Colab Notebooks/HRDataset.xlsx', sheet_name='Planilha1')\n",
        "\n",
        "# Verificar as primeiras linhas do arquivo\n",
        "print(df.head())\n",
        "\n",
        "# Obter informações sobre as colunas e tipos de dados\n",
        "print(df.info())\n",
        "\n",
        "# Realizar análise estatística descritiva\n",
        "print(df.describe())\n",
        "\n",
        "# Contar o número de valores únicos em cada coluna\n",
        "print(df.nunique())\n",
        "\n",
        "# Calcular a média do salário\n",
        "mean_salary = df['Salary'].mean()\n",
        "print(f\"Média do salário: {mean_salary}\")\n",
        "\n",
        "# Calcular o número de funcionários por departamento\n",
        "employee_count_by_dept = df['Department'].value_counts()\n",
        "print(\"Número de funcionários por departamento:\")\n",
        "print(employee_count_by_dept)\n",
        "\n",
        "# Calcular a contagem de funcionários por status de emprego\n",
        "employee_count_by_status = df['EmploymentStatus'].value_counts()\n",
        "print(\"Número de funcionários por status de emprego:\")\n",
        "print(employee_count_by_status)\n",
        "\n",
        "# Plotar gráfico de barras para funcionários por departamento\n",
        "employee_count_by_dept.plot(kind='bar')\n",
        "plt.xlabel('Departamento')\n",
        "plt.ylabel('Número de Funcionários')\n",
        "plt.title('Número de Funcionários por Departamento')\n",
        "plt.show()\n",
        "\n",
        "# Plotar gráfico de barras para status de emprego\n",
        "employee_count_by_status.plot(kind='bar')\n",
        "plt.xlabel('Status de Emprego')\n",
        "plt.ylabel('Número de Funcionários')\n",
        "plt.title('Número de Funcionários por Status de Emprego')\n",
        "plt.show()\n",
        "\n",
        "# Calcular a média do salário por departamento e ordenar do maior para o menor\n",
        "mean_salary_by_dept = df.groupby('Department')['Salary'].mean().sort_values(ascending=False)\n",
        "\n",
        "\n",
        "# Plotar gráfico de barras para média salarial por departamento\n",
        "mean_salary_by_dept.plot(kind='bar')\n",
        "plt.xlabel('Departamento')\n",
        "plt.ylabel('Média Salarial')\n",
        "plt.title('Média Salarial por Departamento')\n",
        "plt.show()\n"
      ],
      "metadata": {
        "id": "0VTtAcwKwvr_"
      },
      "execution_count": null,
      "outputs": []
    },
    {
      "cell_type": "markdown",
      "source": [
        "Descrição do código python passo à passo"
      ],
      "metadata": {
        "id": "AmEqm9aSxjd0"
      }
    },
    {
      "cell_type": "markdown",
      "source": [
        "Importação de bibliotecas:"
      ],
      "metadata": {
        "id": "hvehkck-xo_L"
      }
    },
    {
      "cell_type": "code",
      "source": [
        "import pandas as pd\n",
        "import matplotlib.pyplot as plt"
      ],
      "metadata": {
        "id": "5a41s3ECxqYD"
      },
      "execution_count": 13,
      "outputs": []
    },
    {
      "cell_type": "markdown",
      "source": [
        "Carregar o arquivo XLSX:"
      ],
      "metadata": {
        "id": "awA0OtQOxvOS"
      }
    },
    {
      "cell_type": "code",
      "source": [
        "df = pd.read_excel('/content/drive/MyDrive/Colab Notebooks/HRDataset.xlsx', sheet_name='Planilha1')\n"
      ],
      "metadata": {
        "id": "ESB-KEoXxyfy"
      },
      "execution_count": 14,
      "outputs": []
    },
    {
      "cell_type": "markdown",
      "source": [
        "Nesta etapa, o arquivo XLSX é lido e carregado em um DataFrame chamado df. O caminho do arquivo é especificado como '/content/drive/MyDrive/Colab Notebooks/HRDataset.xlsx', e a planilha específica a ser lida é indicada como 'Planilha1'.\n",
        "\n",
        "Verificar as primeiras linhas do arquivo:"
      ],
      "metadata": {
        "id": "IAdkhpGox2LO"
      }
    },
    {
      "cell_type": "code",
      "source": [
        "print(df.head())\n"
      ],
      "metadata": {
        "colab": {
          "base_uri": "https://localhost:8080/"
        },
        "id": "sBeV-N3Lx9f5",
        "outputId": "3c50c338-a4db-40cb-bbac-250c4c42a477"
      },
      "execution_count": 15,
      "outputs": [
        {
          "output_type": "stream",
          "name": "stdout",
          "text": [
            "              Employee_Name  EmpID  MarriedID  MaritalStatusID  GenderID  \\\n",
            "0       Adinolfi, Wilson  K  10026          0                0         1   \n",
            "1  Ait Sidi, Karthikeyan     10084          1                1         1   \n",
            "2         Akinkuolie, Sarah  10196          1                1         0   \n",
            "3              Alagbe,Trina  10088          1                1         0   \n",
            "4          Anderson, Carol   10069          0                2         0   \n",
            "\n",
            "   EmpStatusID  DeptID  PerfScoreID  FromDiversityJobFairID  Salary  ...  \\\n",
            "0            1       5            4                       0   62506  ...   \n",
            "1            5       3            3                       0  104437  ...   \n",
            "2            5       5            3                       0   64955  ...   \n",
            "3            1       5            3                       0   64991  ...   \n",
            "4            5       5            3                       0   50825  ...   \n",
            "\n",
            "      ManagerName  ManagerID RecruitmentSource PerformanceScore  \\\n",
            "0  Michael Albert       22.0          LinkedIn          Exceeds   \n",
            "1      Simon Roup        4.0            Indeed      Fully Meets   \n",
            "2  Kissy Sullivan       20.0          LinkedIn      Fully Meets   \n",
            "3    Elijiah Gray       16.0            Indeed      Fully Meets   \n",
            "4  Webster Butler       39.0     Google Search      Fully Meets   \n",
            "\n",
            "   EngagementSurvey EmpSatisfaction SpecialProjectsCount  \\\n",
            "0               460               5                    0   \n",
            "1               496               3                    6   \n",
            "2               302               3                    0   \n",
            "3               484               5                    0   \n",
            "4               500               4                    0   \n",
            "\n",
            "  LastPerformanceReview_Date DaysLateLast30 Absences  \n",
            "0                  1/17/2019              0        1  \n",
            "1                  2/24/2016              0       17  \n",
            "2                  5/15/2012              0        3  \n",
            "3                   1/3/2019              0       15  \n",
            "4                   2/1/2016              0        2  \n",
            "\n",
            "[5 rows x 36 columns]\n"
          ]
        }
      ]
    },
    {
      "cell_type": "markdown",
      "source": [
        "Obter informações sobre as colunas e tipos de dados:"
      ],
      "metadata": {
        "id": "jrwolGqmypfE"
      }
    },
    {
      "cell_type": "code",
      "source": [
        "print(df.info())\n"
      ],
      "metadata": {
        "colab": {
          "base_uri": "https://localhost:8080/"
        },
        "id": "g3YiQNSCytMp",
        "outputId": "8a7d41e2-c489-49ea-ef90-dc4087b63e69"
      },
      "execution_count": 16,
      "outputs": [
        {
          "output_type": "stream",
          "name": "stdout",
          "text": [
            "<class 'pandas.core.frame.DataFrame'>\n",
            "RangeIndex: 311 entries, 0 to 310\n",
            "Data columns (total 36 columns):\n",
            " #   Column                      Non-Null Count  Dtype  \n",
            "---  ------                      --------------  -----  \n",
            " 0   Employee_Name               311 non-null    object \n",
            " 1   EmpID                       311 non-null    int64  \n",
            " 2   MarriedID                   311 non-null    int64  \n",
            " 3   MaritalStatusID             311 non-null    int64  \n",
            " 4   GenderID                    311 non-null    int64  \n",
            " 5   EmpStatusID                 311 non-null    int64  \n",
            " 6   DeptID                      311 non-null    int64  \n",
            " 7   PerfScoreID                 311 non-null    int64  \n",
            " 8   FromDiversityJobFairID      311 non-null    int64  \n",
            " 9   Salary                      311 non-null    int64  \n",
            " 10  Termd                       311 non-null    int64  \n",
            " 11  PositionID                  311 non-null    int64  \n",
            " 12  Position                    311 non-null    object \n",
            " 13  State                       311 non-null    object \n",
            " 14  Zip                         311 non-null    int64  \n",
            " 15  DOB                         311 non-null    object \n",
            " 16  Sex                         311 non-null    object \n",
            " 17  MaritalDesc                 311 non-null    object \n",
            " 18  CitizenDesc                 311 non-null    object \n",
            " 19  HispanicLatino              311 non-null    object \n",
            " 20  RaceDesc                    311 non-null    object \n",
            " 21  DateofHire                  311 non-null    object \n",
            " 22  DateofTermination           104 non-null    object \n",
            " 23  TermReason                  311 non-null    object \n",
            " 24  EmploymentStatus            311 non-null    object \n",
            " 25  Department                  311 non-null    object \n",
            " 26  ManagerName                 311 non-null    object \n",
            " 27  ManagerID                   303 non-null    float64\n",
            " 28  RecruitmentSource           311 non-null    object \n",
            " 29  PerformanceScore            311 non-null    object \n",
            " 30  EngagementSurvey            311 non-null    int64  \n",
            " 31  EmpSatisfaction             311 non-null    int64  \n",
            " 32  SpecialProjectsCount        311 non-null    int64  \n",
            " 33  LastPerformanceReview_Date  311 non-null    object \n",
            " 34  DaysLateLast30              311 non-null    int64  \n",
            " 35  Absences                    311 non-null    int64  \n",
            "dtypes: float64(1), int64(17), object(18)\n",
            "memory usage: 87.6+ KB\n",
            "None\n"
          ]
        }
      ]
    },
    {
      "cell_type": "markdown",
      "source": [
        "Realizar análise estatística descritiva:"
      ],
      "metadata": {
        "id": "lGGKMWIOyv9z"
      }
    },
    {
      "cell_type": "code",
      "source": [
        "print(df.describe())\n"
      ],
      "metadata": {
        "colab": {
          "base_uri": "https://localhost:8080/"
        },
        "id": "mU_B3zR2yzeR",
        "outputId": "1264911b-81ab-4365-c9b0-084da6633c6f"
      },
      "execution_count": 17,
      "outputs": [
        {
          "output_type": "stream",
          "name": "stdout",
          "text": [
            "              EmpID   MarriedID  MaritalStatusID    GenderID  EmpStatusID  \\\n",
            "count    311.000000  311.000000       311.000000  311.000000   311.000000   \n",
            "mean   10156.000000    0.398714         0.810289    0.434084     2.392283   \n",
            "std       89.922189    0.490423         0.943239    0.496435     1.794383   \n",
            "min    10001.000000    0.000000         0.000000    0.000000     1.000000   \n",
            "25%    10078.500000    0.000000         0.000000    0.000000     1.000000   \n",
            "50%    10156.000000    0.000000         1.000000    0.000000     1.000000   \n",
            "75%    10233.500000    1.000000         1.000000    1.000000     5.000000   \n",
            "max    10311.000000    1.000000         4.000000    1.000000     5.000000   \n",
            "\n",
            "           DeptID  PerfScoreID  FromDiversityJobFairID         Salary  \\\n",
            "count  311.000000   311.000000              311.000000     311.000000   \n",
            "mean     4.610932     2.977492                0.093248   69020.684887   \n",
            "std      1.083487     0.587072                0.291248   25156.636930   \n",
            "min      1.000000     1.000000                0.000000   45046.000000   \n",
            "25%      5.000000     3.000000                0.000000   55501.500000   \n",
            "50%      5.000000     3.000000                0.000000   62810.000000   \n",
            "75%      5.000000     3.000000                0.000000   72036.000000   \n",
            "max      6.000000     4.000000                1.000000  250000.000000   \n",
            "\n",
            "            Termd  PositionID           Zip   ManagerID  EngagementSurvey  \\\n",
            "count  311.000000  311.000000    311.000000  303.000000        311.000000   \n",
            "mean     0.334405   16.845659   6555.482315   14.570957        409.755627   \n",
            "std      0.472542    6.223419  16908.396884    8.078306         81.695450   \n",
            "min      0.000000    1.000000   1013.000000    1.000000         43.000000   \n",
            "25%      0.000000   18.000000   1901.500000   10.000000        367.500000   \n",
            "50%      0.000000   19.000000   2132.000000   15.000000        428.000000   \n",
            "75%      1.000000   20.000000   2355.000000   19.000000        470.000000   \n",
            "max      1.000000   30.000000  98052.000000   39.000000        500.000000   \n",
            "\n",
            "       EmpSatisfaction  SpecialProjectsCount  DaysLateLast30    Absences  \n",
            "count       311.000000            311.000000      311.000000  311.000000  \n",
            "mean          3.890675              1.218650        0.414791   10.237942  \n",
            "std           0.909241              2.349421        1.294519    5.852596  \n",
            "min           1.000000              0.000000        0.000000    1.000000  \n",
            "25%           3.000000              0.000000        0.000000    5.000000  \n",
            "50%           4.000000              0.000000        0.000000   10.000000  \n",
            "75%           5.000000              0.000000        0.000000   15.000000  \n",
            "max           5.000000              8.000000        6.000000   20.000000  \n"
          ]
        }
      ]
    },
    {
      "cell_type": "markdown",
      "source": [
        "Contar o número de valores únicos em cada coluna:"
      ],
      "metadata": {
        "id": "qx30Qudwy-wG"
      }
    },
    {
      "cell_type": "code",
      "source": [
        "print(df.nunique())\n"
      ],
      "metadata": {
        "colab": {
          "base_uri": "https://localhost:8080/"
        },
        "id": "LoNVb23EzCyu",
        "outputId": "73cf792a-585a-4cad-ce02-de77dc4b46f4"
      },
      "execution_count": 18,
      "outputs": [
        {
          "output_type": "stream",
          "name": "stdout",
          "text": [
            "Employee_Name                 311\n",
            "EmpID                         311\n",
            "MarriedID                       2\n",
            "MaritalStatusID                 5\n",
            "GenderID                        2\n",
            "EmpStatusID                     5\n",
            "DeptID                          6\n",
            "PerfScoreID                     4\n",
            "FromDiversityJobFairID          2\n",
            "Salary                        308\n",
            "Termd                           2\n",
            "PositionID                     30\n",
            "Position                       32\n",
            "State                          28\n",
            "Zip                           158\n",
            "DOB                           307\n",
            "Sex                             2\n",
            "MaritalDesc                     5\n",
            "CitizenDesc                     3\n",
            "HispanicLatino                  4\n",
            "RaceDesc                        6\n",
            "DateofHire                    101\n",
            "DateofTermination              96\n",
            "TermReason                     18\n",
            "EmploymentStatus                3\n",
            "Department                      6\n",
            "ManagerName                    21\n",
            "ManagerID                      23\n",
            "RecruitmentSource               9\n",
            "PerformanceScore                4\n",
            "EngagementSurvey              120\n",
            "EmpSatisfaction                 5\n",
            "SpecialProjectsCount            9\n",
            "LastPerformanceReview_Date    137\n",
            "DaysLateLast30                  7\n",
            "Absences                       20\n",
            "dtype: int64\n"
          ]
        }
      ]
    },
    {
      "cell_type": "markdown",
      "source": [
        "Calcular a média do salário:"
      ],
      "metadata": {
        "id": "w4OilsrczHE9"
      }
    },
    {
      "cell_type": "code",
      "source": [
        "mean_salary = df['Salary'].mean()\n",
        "print(f\"Média do salário: {mean_salary}\")\n"
      ],
      "metadata": {
        "colab": {
          "base_uri": "https://localhost:8080/"
        },
        "id": "GggWcQEozJD3",
        "outputId": "afd7b706-4a7c-4715-fd1e-1e6b702c1dc4"
      },
      "execution_count": 19,
      "outputs": [
        {
          "output_type": "stream",
          "name": "stdout",
          "text": [
            "Média do salário: 69020.6848874598\n"
          ]
        }
      ]
    },
    {
      "cell_type": "markdown",
      "source": [
        "Calcular o número de funcionários por departamento:"
      ],
      "metadata": {
        "id": "PPkDIUcWzP6C"
      }
    },
    {
      "cell_type": "code",
      "source": [
        "employee_count_by_dept = df['Department'].value_counts()\n",
        "print(\"Número de funcionários por departamento:\")\n",
        "print(employee_count_by_dept)\n"
      ],
      "metadata": {
        "colab": {
          "base_uri": "https://localhost:8080/"
        },
        "id": "cuOQG49BzRiW",
        "outputId": "f8cda312-a025-4b4c-b554-73043889c59d"
      },
      "execution_count": 20,
      "outputs": [
        {
          "output_type": "stream",
          "name": "stdout",
          "text": [
            "Número de funcionários por departamento:\n",
            "Production              209\n",
            "IT/IS                    50\n",
            "Sales                    31\n",
            "Software Engineering     11\n",
            "Admin Offices             9\n",
            "Executive Office          1\n",
            "Name: Department, dtype: int64\n"
          ]
        }
      ]
    },
    {
      "cell_type": "markdown",
      "source": [
        "Calcular a contagem de funcionários por status de emprego:"
      ],
      "metadata": {
        "id": "TsFbnYUFzbL3"
      }
    },
    {
      "cell_type": "code",
      "source": [
        "employee_count_by_status = df['EmploymentStatus'].value_counts()\n",
        "print(\"Número de funcionários por status de emprego:\")\n",
        "print(employee_count_by_status)\n"
      ],
      "metadata": {
        "colab": {
          "base_uri": "https://localhost:8080/"
        },
        "id": "JADn0j0SzdUw",
        "outputId": "315ffa52-7b68-4940-abb0-ecb84ff8c50f"
      },
      "execution_count": 21,
      "outputs": [
        {
          "output_type": "stream",
          "name": "stdout",
          "text": [
            "Número de funcionários por status de emprego:\n",
            "Active                    207\n",
            "Voluntarily Terminated     88\n",
            "Terminated for Cause       16\n",
            "Name: EmploymentStatus, dtype: int64\n"
          ]
        }
      ]
    },
    {
      "cell_type": "markdown",
      "source": [
        "Plotar gráfico de barras para funcionários por departamento:"
      ],
      "metadata": {
        "id": "OB-1wWpvzi03"
      }
    },
    {
      "cell_type": "code",
      "source": [
        "employee_count_by_dept.plot(kind='bar')\n",
        "plt.xlabel('Departamento')\n",
        "plt.ylabel('Número de Funcionários')\n",
        "plt.title('Número de Funcionários por Departamento')\n",
        "plt.show()\n"
      ],
      "metadata": {
        "colab": {
          "base_uri": "https://localhost:8080/",
          "height": 607
        },
        "id": "ERTbVSPrzj90",
        "outputId": "ec5de847-1d52-4e69-fbba-d32af1210ec1"
      },
      "execution_count": 22,
      "outputs": [
        {
          "output_type": "display_data",
          "data": {
            "text/plain": [
              "<Figure size 640x480 with 1 Axes>"
            ],
            "image/png": "[encoded data removed]"
          },
          "metadata": {}
        }
      ]
    },
    {
      "cell_type": "markdown",
      "source": [
        "Plotar gráfico de barras para status de emprego:"
      ],
      "metadata": {
        "id": "qN7g_lPzzsw8"
      }
    },
    {
      "cell_type": "code",
      "source": [
        "employee_count_by_status.plot(kind='bar')\n",
        "plt.xlabel('Status de Emprego')\n",
        "plt.ylabel('Número de Funcionários')\n",
        "plt.title('Número de Funcionários por Status de Emprego')\n",
        "plt.show()\n"
      ],
      "metadata": {
        "colab": {
          "base_uri": "https://localhost:8080/",
          "height": 614
        },
        "id": "cojW8GmDztkB",
        "outputId": "25ec3a06-4cd0-49b0-e185-a79ae1ff6995"
      },
      "execution_count": 23,
      "outputs": [
        {
          "output_type": "display_data",
          "data": {
            "text/plain": [
              "<Figure size 640x480 with 1 Axes>"
            ],
            "image/png": "[encoded data removed]"
          },
          "metadata": {}
        }
      ]
    },
    {
      "cell_type": "markdown",
      "source": [
        "Calcular a média do salário por departamento e ordenar do maior para o menor:"
      ],
      "metadata": {
        "id": "OfgISungzwWu"
      }
    },
    {
      "cell_type": "code",
      "source": [
        "mean_salary_by_dept = df.groupby('Department')['Salary'].mean().sort_values(ascending=False)\n"
      ],
      "metadata": {
        "id": "dScVnoaDz0Ky"
      },
      "execution_count": 24,
      "outputs": []
    },
    {
      "cell_type": "markdown",
      "source": [
        "Plotar gráfico de barras para média salarial por departamento:"
      ],
      "metadata": {
        "id": "gHql6eBpz5GE"
      }
    },
    {
      "cell_type": "code",
      "source": [
        "mean_salary_by_dept.plot(kind='bar')\n",
        "plt.xlabel('Departamento')\n",
        "plt.ylabel('Média Salarial')\n",
        "plt.title('Média Salarial por Departamento')\n",
        "plt.show()\n"
      ],
      "metadata": {
        "colab": {
          "base_uri": "https://localhost:8080/",
          "height": 607
        },
        "id": "eCHg_jGPz6oj",
        "outputId": "8d49d63f-d2f4-4a3a-fc86-dd0f671b9e9d"
      },
      "execution_count": 25,
      "outputs": [
        {
          "output_type": "display_data",
          "data": {
            "text/plain": [
              "<Figure size 640x480 with 1 Axes>"
            ],
            "image/png": "[encoded data removed]"
          },
          "metadata": {}
        }
      ]
    },
    {
      "cell_type": "markdown",
      "source": [
        "Nesta última etapa, um gráfico de barras é gerado a partir dos valores da média salarial por departamento presentes em mean_salary_by_dept. O método plot() é chamado com kind='bar' para criar o gráfico, e são definidos os rótulos dos eixos e o título. O gráfico é exibido utilizando plt.show()."
      ],
      "metadata": {
        "id": "vKXMfR3xz8MK"
      }
    }
  ]
}